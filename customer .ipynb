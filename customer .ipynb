{
 "cells": [
  {
   "cell_type": "code",
   "execution_count": 1,
   "metadata": {},
   "outputs": [],
   "source": [
    "import pandas as pd \n",
    "import numpy as np\n",
    "import matplotlib as plt \n",
    "import seaborn as sea\n"
   ]
  },
  {
   "cell_type": "code",
   "execution_count": 2,
   "metadata": {},
   "outputs": [],
   "source": [
    "df=pd.read_csv(r\"customers.csv\",encoding='unicode_escape')"
   ]
  },
  {
   "cell_type": "code",
   "execution_count": 3,
   "metadata": {},
   "outputs": [
    {
     "data": {
      "text/plain": [
       "(773, 10)"
      ]
     },
     "execution_count": 3,
     "metadata": {},
     "output_type": "execute_result"
    }
   ],
   "source": [
    "df.shape"
   ]
  },
  {
   "cell_type": "code",
   "execution_count": 4,
   "metadata": {},
   "outputs": [
    {
     "data": {
      "text/html": [
       "<div>\n",
       "<style scoped>\n",
       "    .dataframe tbody tr th:only-of-type {\n",
       "        vertical-align: middle;\n",
       "    }\n",
       "\n",
       "    .dataframe tbody tr th {\n",
       "        vertical-align: top;\n",
       "    }\n",
       "\n",
       "    .dataframe thead th {\n",
       "        text-align: right;\n",
       "    }\n",
       "</style>\n",
       "<table border=\"1\" class=\"dataframe\">\n",
       "  <thead>\n",
       "    <tr style=\"text-align: right;\">\n",
       "      <th></th>\n",
       "      <th>Customer ID</th>\n",
       "      <th>Name</th>\n",
       "      <th>Email</th>\n",
       "      <th>Phone Number</th>\n",
       "      <th>Street Address</th>\n",
       "      <th>City</th>\n",
       "      <th>State</th>\n",
       "      <th>Zip Code</th>\n",
       "      <th>Sales Rep</th>\n",
       "      <th>Subscription</th>\n",
       "    </tr>\n",
       "  </thead>\n",
       "  <tbody>\n",
       "    <tr>\n",
       "      <th>0</th>\n",
       "      <td>1</td>\n",
       "      <td>Kathryn Williams</td>\n",
       "      <td>kathrynwilliams@samplemail.com</td>\n",
       "      <td>(550) 269-8345</td>\n",
       "      <td>6122 Debra Court</td>\n",
       "      <td>Stewartville</td>\n",
       "      <td>Hawaii</td>\n",
       "      <td>55169</td>\n",
       "      <td>Patricia Escobar</td>\n",
       "      <td>Standard</td>\n",
       "    </tr>\n",
       "    <tr>\n",
       "      <th>1</th>\n",
       "      <td>2</td>\n",
       "      <td>Maxwell Meza</td>\n",
       "      <td>maxwellmeza@samplemail.com</td>\n",
       "      <td>(712) 706-8059</td>\n",
       "      <td>740 Bean Station</td>\n",
       "      <td>Lake Aprilton</td>\n",
       "      <td>Maine</td>\n",
       "      <td>9073</td>\n",
       "      <td>Thomas Murray</td>\n",
       "      <td>Standard</td>\n",
       "    </tr>\n",
       "    <tr>\n",
       "      <th>2</th>\n",
       "      <td>3</td>\n",
       "      <td>Jamie Crawford</td>\n",
       "      <td>jamiecrawford@samplemail.com</td>\n",
       "      <td>(278) 738-1122</td>\n",
       "      <td>65114 Tracy Track Suite 604</td>\n",
       "      <td>South Sarahbury</td>\n",
       "      <td>North Dakota</td>\n",
       "      <td>51657</td>\n",
       "      <td>Amber Taylor</td>\n",
       "      <td>Plus</td>\n",
       "    </tr>\n",
       "    <tr>\n",
       "      <th>3</th>\n",
       "      <td>4</td>\n",
       "      <td>Raven Hernandez</td>\n",
       "      <td>ravenhernandez@samplemail.com</td>\n",
       "      <td>(376) 539-3142</td>\n",
       "      <td>45083 Cunningham Drive</td>\n",
       "      <td>Jasonstad</td>\n",
       "      <td>Hawaii</td>\n",
       "      <td>13042</td>\n",
       "      <td>Ashley Collins</td>\n",
       "      <td>Standard</td>\n",
       "    </tr>\n",
       "    <tr>\n",
       "      <th>4</th>\n",
       "      <td>5</td>\n",
       "      <td>Robert Brown</td>\n",
       "      <td>robertbrown@samplemail.com</td>\n",
       "      <td>(368) 263-0915</td>\n",
       "      <td>3965 Jay Ford</td>\n",
       "      <td>New Ann</td>\n",
       "      <td>New Hampshire</td>\n",
       "      <td>50080</td>\n",
       "      <td>Samantha Horton</td>\n",
       "      <td>Plus</td>\n",
       "    </tr>\n",
       "    <tr>\n",
       "      <th>...</th>\n",
       "      <td>...</td>\n",
       "      <td>...</td>\n",
       "      <td>...</td>\n",
       "      <td>...</td>\n",
       "      <td>...</td>\n",
       "      <td>...</td>\n",
       "      <td>...</td>\n",
       "      <td>...</td>\n",
       "      <td>...</td>\n",
       "      <td>...</td>\n",
       "    </tr>\n",
       "    <tr>\n",
       "      <th>768</th>\n",
       "      <td>769</td>\n",
       "      <td>Nancy Cole</td>\n",
       "      <td>nancycole@samplemail.com</td>\n",
       "      <td>(134) 653-8529</td>\n",
       "      <td>735 Sutton Square</td>\n",
       "      <td>Lake Meganville</td>\n",
       "      <td>Pennsylvania</td>\n",
       "      <td>47331</td>\n",
       "      <td>Ashley Collins</td>\n",
       "      <td>Plus</td>\n",
       "    </tr>\n",
       "    <tr>\n",
       "      <th>769</th>\n",
       "      <td>770</td>\n",
       "      <td>Samuel Barrett</td>\n",
       "      <td>samuelbarrett@samplemail.com</td>\n",
       "      <td>(289) 571-9595</td>\n",
       "      <td>53731 Fitzgerald Keys</td>\n",
       "      <td>South David</td>\n",
       "      <td>North Carolina</td>\n",
       "      <td>22817</td>\n",
       "      <td>Bradley Todd</td>\n",
       "      <td>Standard</td>\n",
       "    </tr>\n",
       "    <tr>\n",
       "      <th>770</th>\n",
       "      <td>771</td>\n",
       "      <td>Alex Hayes</td>\n",
       "      <td>alexhayes@samplemail.com</td>\n",
       "      <td>(123) 679-2096</td>\n",
       "      <td>313 Deborah Prairie</td>\n",
       "      <td>Port Joy</td>\n",
       "      <td>California</td>\n",
       "      <td>66171</td>\n",
       "      <td>Samantha Graham</td>\n",
       "      <td>Standard</td>\n",
       "    </tr>\n",
       "    <tr>\n",
       "      <th>771</th>\n",
       "      <td>772</td>\n",
       "      <td>Roberto Kennedy</td>\n",
       "      <td>robertokennedy@samplemail.com</td>\n",
       "      <td>(852) 816-8525</td>\n",
       "      <td>48959 Kim Field</td>\n",
       "      <td>South Emily</td>\n",
       "      <td>Texas</td>\n",
       "      <td>94465</td>\n",
       "      <td>Ashley Collins</td>\n",
       "      <td>Standard</td>\n",
       "    </tr>\n",
       "    <tr>\n",
       "      <th>772</th>\n",
       "      <td>773</td>\n",
       "      <td>Michael Cox</td>\n",
       "      <td>michaelcox@samplemail.com</td>\n",
       "      <td>(385) 590-1784</td>\n",
       "      <td>45192 Nguyen Shore Suite 070</td>\n",
       "      <td>New Wandaburgh</td>\n",
       "      <td>Louisiana</td>\n",
       "      <td>96407</td>\n",
       "      <td>Amber Horton</td>\n",
       "      <td>Standard</td>\n",
       "    </tr>\n",
       "  </tbody>\n",
       "</table>\n",
       "<p>773 rows × 10 columns</p>\n",
       "</div>"
      ],
      "text/plain": [
       "     Customer ID              Name                           Email  \\\n",
       "0              1  Kathryn Williams  kathrynwilliams@samplemail.com   \n",
       "1              2      Maxwell Meza      maxwellmeza@samplemail.com   \n",
       "2              3    Jamie Crawford    jamiecrawford@samplemail.com   \n",
       "3              4   Raven Hernandez   ravenhernandez@samplemail.com   \n",
       "4              5      Robert Brown      robertbrown@samplemail.com   \n",
       "..           ...               ...                             ...   \n",
       "768          769        Nancy Cole        nancycole@samplemail.com   \n",
       "769          770    Samuel Barrett    samuelbarrett@samplemail.com   \n",
       "770          771        Alex Hayes        alexhayes@samplemail.com   \n",
       "771          772   Roberto Kennedy   robertokennedy@samplemail.com   \n",
       "772          773       Michael Cox       michaelcox@samplemail.com   \n",
       "\n",
       "       Phone Number                Street Address             City  \\\n",
       "0    (550) 269-8345              6122 Debra Court     Stewartville   \n",
       "1    (712) 706-8059              740 Bean Station    Lake Aprilton   \n",
       "2    (278) 738-1122   65114 Tracy Track Suite 604  South Sarahbury   \n",
       "3    (376) 539-3142        45083 Cunningham Drive        Jasonstad   \n",
       "4    (368) 263-0915                 3965 Jay Ford          New Ann   \n",
       "..              ...                           ...              ...   \n",
       "768  (134) 653-8529             735 Sutton Square  Lake Meganville   \n",
       "769  (289) 571-9595         53731 Fitzgerald Keys      South David   \n",
       "770  (123) 679-2096           313 Deborah Prairie         Port Joy   \n",
       "771  (852) 816-8525               48959 Kim Field      South Emily   \n",
       "772  (385) 590-1784  45192 Nguyen Shore Suite 070   New Wandaburgh   \n",
       "\n",
       "              State  Zip Code         Sales Rep Subscription  \n",
       "0            Hawaii     55169  Patricia Escobar     Standard  \n",
       "1             Maine      9073     Thomas Murray     Standard  \n",
       "2      North Dakota     51657      Amber Taylor         Plus  \n",
       "3            Hawaii     13042    Ashley Collins     Standard  \n",
       "4     New Hampshire     50080   Samantha Horton         Plus  \n",
       "..              ...       ...               ...          ...  \n",
       "768    Pennsylvania     47331    Ashley Collins         Plus  \n",
       "769  North Carolina     22817      Bradley Todd     Standard  \n",
       "770      California     66171   Samantha Graham     Standard  \n",
       "771           Texas     94465    Ashley Collins     Standard  \n",
       "772       Louisiana     96407      Amber Horton     Standard  \n",
       "\n",
       "[773 rows x 10 columns]"
      ]
     },
     "execution_count": 4,
     "metadata": {},
     "output_type": "execute_result"
    }
   ],
   "source": [
    "df"
   ]
  },
  {
   "cell_type": "code",
   "execution_count": 5,
   "metadata": {},
   "outputs": [
    {
     "name": "stdout",
     "output_type": "stream",
     "text": [
      "<class 'pandas.core.frame.DataFrame'>\n",
      "RangeIndex: 773 entries, 0 to 772\n",
      "Data columns (total 10 columns):\n",
      " #   Column          Non-Null Count  Dtype \n",
      "---  ------          --------------  ----- \n",
      " 0   Customer ID     773 non-null    int64 \n",
      " 1   Name            773 non-null    object\n",
      " 2   Email           773 non-null    object\n",
      " 3   Phone Number    773 non-null    object\n",
      " 4   Street Address  773 non-null    object\n",
      " 5   City            773 non-null    object\n",
      " 6   State           773 non-null    object\n",
      " 7   Zip Code        773 non-null    int64 \n",
      " 8   Sales Rep       773 non-null    object\n",
      " 9   Subscription    773 non-null    object\n",
      "dtypes: int64(2), object(8)\n",
      "memory usage: 60.5+ KB\n"
     ]
    }
   ],
   "source": [
    "df.info()"
   ]
  },
  {
   "cell_type": "code",
   "execution_count": 7,
   "metadata": {},
   "outputs": [],
   "source": [
    "columns=['Name','City']\n",
    "df.drop(columns,inplace=True,axis=1)"
   ]
  },
  {
   "cell_type": "code",
   "execution_count": 8,
   "metadata": {},
   "outputs": [
    {
     "data": {
      "text/plain": [
       "Customer ID       False\n",
       "Email             False\n",
       "Phone Number      False\n",
       "Street Address    False\n",
       "State             False\n",
       "Zip Code          False\n",
       "Sales Rep         False\n",
       "Subscription      False\n",
       "dtype: bool"
      ]
     },
     "execution_count": 8,
     "metadata": {},
     "output_type": "execute_result"
    }
   ],
   "source": [
    "df.isnull().any()"
   ]
  },
  {
   "cell_type": "markdown",
   "metadata": {},
   "source": [
    "This  Dataset is already  clean"
   ]
  }
 ],
 "metadata": {
  "kernelspec": {
   "display_name": "Python 3",
   "language": "python",
   "name": "python3"
  },
  "language_info": {
   "codemirror_mode": {
    "name": "ipython",
    "version": 3
   },
   "file_extension": ".py",
   "mimetype": "text/x-python",
   "name": "python",
   "nbconvert_exporter": "python",
   "pygments_lexer": "ipython3",
   "version": "3.10.2"
  }
 },
 "nbformat": 4,
 "nbformat_minor": 2
}
